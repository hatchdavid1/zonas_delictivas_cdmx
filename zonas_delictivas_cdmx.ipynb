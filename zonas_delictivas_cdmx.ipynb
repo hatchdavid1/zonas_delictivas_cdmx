{
 "cells": [
  {
   "cell_type": "code",
   "execution_count": 38,
   "metadata": {},
   "outputs": [],
   "source": [
    "import pandas as pd\n",
    "import numpy as np\n",
    "import seaborn as sns\n",
    "import matplotlib.pyplot as plt\n",
    "#!pip install folium\n",
    "import folium\n",
    "import json\n",
    "import warnings\n",
    "warnings.filterwarnings('ignore')\n",
    "pd.set_option('max_colwidth', 1000)\n",
    "pd.set_option('max_rows', 30)\n",
    "pd.set_option('max_columns', 1000)"
   ]
  },
  {
   "cell_type": "markdown",
   "metadata": {},
   "source": [
    "# Data engineering\n",
    "Testing API and reading data as pickle to optimize time "
   ]
  },
  {
   "cell_type": "code",
   "execution_count": 2,
   "metadata": {},
   "outputs": [
    {
     "name": "stdout",
     "output_type": "stream",
     "text": [
      "<bound method HTTPResponse.read of <http.client.HTTPResponse object at 0x000001DF43FD27F0>>\n"
     ]
    }
   ],
   "source": [
    "#Testing API connection\n",
    "import urllib.request as req\n",
    "url = 'https://datos.cdmx.gob.mx/api/3/action/datastore_search?resource_id=d543a7b1-f8cb-439f-8a5c-e56c5479eeb5&limit=1000000'  \n",
    "fileobj = req.urlopen(url)\n",
    "print (fileobj.read)"
   ]
  },
  {
   "cell_type": "code",
   "execution_count": 3,
   "metadata": {},
   "outputs": [
    {
     "data": {
      "text/plain": [
       "http.client.HTTPResponse"
      ]
     },
     "execution_count": 3,
     "metadata": {},
     "output_type": "execute_result"
    }
   ],
   "source": [
    "type(fileobj)"
   ]
  },
  {
   "cell_type": "code",
   "execution_count": 5,
   "metadata": {},
   "outputs": [],
   "source": [
    "response = json.loads(fileobj.read())"
   ]
  },
  {
   "cell_type": "code",
   "execution_count": 32,
   "metadata": {},
   "outputs": [],
   "source": [
    "result = response.get('result')\n",
    "records = result.get('records')"
   ]
  },
  {
   "cell_type": "code",
   "execution_count": 52,
   "metadata": {},
   "outputs": [
    {
     "data": {
      "text/html": [
       "<div>\n",
       "<style scoped>\n",
       "    .dataframe tbody tr th:only-of-type {\n",
       "        vertical-align: middle;\n",
       "    }\n",
       "\n",
       "    .dataframe tbody tr th {\n",
       "        vertical-align: top;\n",
       "    }\n",
       "\n",
       "    .dataframe thead th {\n",
       "        text-align: right;\n",
       "    }\n",
       "</style>\n",
       "<table border=\"1\" class=\"dataframe\">\n",
       "  <thead>\n",
       "    <tr style=\"text-align: right;\">\n",
       "      <th></th>\n",
       "      <th>id</th>\n",
       "      <th>idCarpeta</th>\n",
       "      <th>Ano_inicio</th>\n",
       "      <th>Mes_inicio</th>\n",
       "      <th>FechaInicio</th>\n",
       "      <th>Delito</th>\n",
       "      <th>Categoria</th>\n",
       "      <th>Sexo</th>\n",
       "      <th>Edad</th>\n",
       "      <th>TipoPersona</th>\n",
       "      <th>CalidadJuridica</th>\n",
       "      <th>competencia</th>\n",
       "      <th>Ano_hecho</th>\n",
       "      <th>Mes_hecho</th>\n",
       "      <th>FechaHecho</th>\n",
       "      <th>HoraHecho</th>\n",
       "      <th>HoraInicio</th>\n",
       "      <th>AlcaldiaHechos</th>\n",
       "      <th>ColoniaHechos</th>\n",
       "      <th>Calle_hechos</th>\n",
       "      <th>Calle_hechos2</th>\n",
       "      <th>latitud</th>\n",
       "      <th>longitud</th>\n",
       "    </tr>\n",
       "  </thead>\n",
       "  <tbody>\n",
       "    <tr>\n",
       "      <th>0</th>\n",
       "      <td>1</td>\n",
       "      <td>8324429</td>\n",
       "      <td>2019</td>\n",
       "      <td>Enero</td>\n",
       "      <td>2019-04-01T00:00:00</td>\n",
       "      <td>FRAUDE</td>\n",
       "      <td>DELITO DE BAJO IMPACTO</td>\n",
       "      <td>Masculino</td>\n",
       "      <td>62.0</td>\n",
       "      <td>FISICA</td>\n",
       "      <td>OFENDIDO</td>\n",
       "      <td>FUERO COMUN</td>\n",
       "      <td>2018.0</td>\n",
       "      <td>Agosto</td>\n",
       "      <td>29/08/2018</td>\n",
       "      <td>12:00:00</td>\n",
       "      <td>12:19:00</td>\n",
       "      <td>ALVARO OBREGON</td>\n",
       "      <td>GUADALUPE INN</td>\n",
       "      <td>INSUGENTES SUR</td>\n",
       "      <td>NaN</td>\n",
       "      <td>19.36125</td>\n",
       "      <td>-99.18314</td>\n",
       "    </tr>\n",
       "    <tr>\n",
       "      <th>1</th>\n",
       "      <td>2</td>\n",
       "      <td>8324430</td>\n",
       "      <td>2019</td>\n",
       "      <td>Enero</td>\n",
       "      <td>2019-04-01T00:00:00</td>\n",
       "      <td>PRODUCCIÓN, IMPRESIÓN, ENAJENACIÓN, DISTRIBUCIÓN, ALTERACIÓN O FALSIFICACIÓN DE TÍTULOS AL PORTADOR, DOCUMENTOS DE CRÉDITO PÚBLICOS O VALES DE CANJE</td>\n",
       "      <td>DELITO DE BAJO IMPACTO</td>\n",
       "      <td>Femenino</td>\n",
       "      <td>38.0</td>\n",
       "      <td>FISICA</td>\n",
       "      <td>VICTIMA Y DENUNCIANTE</td>\n",
       "      <td>FUERO COMUN</td>\n",
       "      <td>2018.0</td>\n",
       "      <td>Diciembre</td>\n",
       "      <td>15/12/2018</td>\n",
       "      <td>15:00:00</td>\n",
       "      <td>12:20:00</td>\n",
       "      <td>AZCAPOTZALCO</td>\n",
       "      <td>VICTORIA DE LAS DEMOCRACIAS</td>\n",
       "      <td>AV.  CUATLAHUAC</td>\n",
       "      <td>NaN</td>\n",
       "      <td>19.47181</td>\n",
       "      <td>-99.16458</td>\n",
       "    </tr>\n",
       "  </tbody>\n",
       "</table>\n",
       "</div>"
      ],
      "text/plain": [
       "   id  idCarpeta  Ano_inicio Mes_inicio          FechaInicio  \\\n",
       "0   1    8324429        2019      Enero  2019-04-01T00:00:00   \n",
       "1   2    8324430        2019      Enero  2019-04-01T00:00:00   \n",
       "\n",
       "                                                                                                                                                 Delito  \\\n",
       "0                                                                                                                                                FRAUDE   \n",
       "1  PRODUCCIÓN, IMPRESIÓN, ENAJENACIÓN, DISTRIBUCIÓN, ALTERACIÓN O FALSIFICACIÓN DE TÍTULOS AL PORTADOR, DOCUMENTOS DE CRÉDITO PÚBLICOS O VALES DE CANJE   \n",
       "\n",
       "                Categoria       Sexo  Edad TipoPersona        CalidadJuridica  \\\n",
       "0  DELITO DE BAJO IMPACTO  Masculino  62.0      FISICA               OFENDIDO   \n",
       "1  DELITO DE BAJO IMPACTO   Femenino  38.0      FISICA  VICTIMA Y DENUNCIANTE   \n",
       "\n",
       "   competencia  Ano_hecho  Mes_hecho  FechaHecho HoraHecho HoraInicio  \\\n",
       "0  FUERO COMUN     2018.0     Agosto  29/08/2018  12:00:00   12:19:00   \n",
       "1  FUERO COMUN     2018.0  Diciembre  15/12/2018  15:00:00   12:20:00   \n",
       "\n",
       "   AlcaldiaHechos                ColoniaHechos     Calle_hechos Calle_hechos2  \\\n",
       "0  ALVARO OBREGON                GUADALUPE INN   INSUGENTES SUR           NaN   \n",
       "1    AZCAPOTZALCO  VICTORIA DE LAS DEMOCRACIAS  AV.  CUATLAHUAC           NaN   \n",
       "\n",
       "    latitud  longitud  \n",
       "0  19.36125 -99.18314  \n",
       "1  19.47181 -99.16458  "
      ]
     },
     "execution_count": 52,
     "metadata": {},
     "output_type": "execute_result"
    }
   ],
   "source": [
    "df = pd.DataFrame(records)\n",
    "#Changing to csv file because of API capacity\n",
    "#Reading as pickle\n",
    "df = pd.read_pickle('text.pkl')\n",
    "df.head(2)"
   ]
  },
  {
   "cell_type": "code",
   "execution_count": 53,
   "metadata": {},
   "outputs": [
    {
     "name": "stdout",
     "output_type": "stream",
     "text": [
      "Index(['id', 'idCarpeta', 'Ano_inicio', 'Mes_inicio', 'FechaInicio', 'Delito',\n",
      "       'Categoria', 'Sexo', 'Edad', 'TipoPersona', 'CalidadJuridica',\n",
      "       'competencia', 'Ano_hecho', 'Mes_hecho', 'FechaHecho', 'HoraHecho',\n",
      "       'HoraInicio', 'AlcaldiaHechos', 'ColoniaHechos', 'Calle_hechos',\n",
      "       'Calle_hechos2', 'latitud', 'longitud'],\n",
      "      dtype='object')\n",
      "<class 'pandas.core.frame.DataFrame'>\n",
      "RangeIndex: 514048 entries, 0 to 514047\n",
      "Data columns (total 23 columns):\n",
      " #   Column           Non-Null Count   Dtype  \n",
      "---  ------           --------------   -----  \n",
      " 0   id               514048 non-null  int64  \n",
      " 1   idCarpeta        514048 non-null  int64  \n",
      " 2   Ano_inicio       514048 non-null  int64  \n",
      " 3   Mes_inicio       514048 non-null  object \n",
      " 4   FechaInicio      514048 non-null  object \n",
      " 5   Delito           514048 non-null  object \n",
      " 6   Categoria        514048 non-null  object \n",
      " 7   Sexo             409002 non-null  object \n",
      " 8   Edad             323320 non-null  float64\n",
      " 9   TipoPersona      509610 non-null  object \n",
      " 10  CalidadJuridica  514048 non-null  object \n",
      " 11  competencia      514048 non-null  object \n",
      " 12  Ano_hecho        513762 non-null  float64\n",
      " 13  Mes_hecho        513762 non-null  object \n",
      " 14  FechaHecho       513762 non-null  object \n",
      " 15  HoraHecho        513764 non-null  object \n",
      " 16  HoraInicio       514047 non-null  object \n",
      " 17  AlcaldiaHechos   513950 non-null  object \n",
      " 18  ColoniaHechos    493746 non-null  object \n",
      " 19  Calle_hechos     513084 non-null  object \n",
      " 20  Calle_hechos2    188100 non-null  object \n",
      " 21  latitud          493976 non-null  float64\n",
      " 22  longitud         493974 non-null  float64\n",
      "dtypes: float64(4), int64(3), object(16)\n",
      "memory usage: 90.2+ MB\n",
      "None\n"
     ]
    }
   ],
   "source": [
    "print(df.columns)\n",
    "print(df.info())"
   ]
  },
  {
   "cell_type": "code",
   "execution_count": 57,
   "metadata": {},
   "outputs": [
    {
     "data": {
      "text/plain": [
       "2019.0    257810\n",
       "2020.0    205322\n",
       "2021.0     27547\n",
       "2018.0     16212\n",
       "2017.0      2547\n",
       "           ...  \n",
       "1964.0         1\n",
       "1962.0         1\n",
       "1955.0         1\n",
       "1952.0         1\n",
       "1975.0         1\n",
       "Name: Ano_hecho, Length: 58, dtype: int64"
      ]
     },
     "execution_count": 57,
     "metadata": {},
     "output_type": "execute_result"
    }
   ],
   "source": [
    "df.Ano_hecho.value_counts()"
   ]
  },
  {
   "cell_type": "code",
   "execution_count": 56,
   "metadata": {},
   "outputs": [
    {
     "data": {
      "text/plain": [
       "DELITO DE BAJO IMPACTO                                     404018\n",
       "ROBO A TRANSEUNTE EN VÍA PÚBLICA CON Y SIN VIOLENCIA        29693\n",
       "ROBO DE VEHÍCULO CON Y SIN VIOLENCIA                        25583\n",
       "ROBO A NEGOCIO CON VIOLENCIA                                18772\n",
       "HECHO NO DELICTIVO                                           8272\n",
       "ROBO A REPARTIDOR CON Y SIN VIOLENCIA                        7326\n",
       "ROBO A PASAJERO A BORDO DEL METRO CON Y SIN VIOLENCIA        4122\n",
       "HOMICIDIO DOLOSO                                             3796\n",
       "VIOLACIÓN                                                    3529\n",
       "LESIONES DOLOSAS POR DISPARO DE ARMA DE FUEGO                3152\n",
       "ROBO A PASAJERO A BORDO DE MICROBUS CON Y SIN VIOLENCIA      1974\n",
       "ROBO A CASA HABITACIÓN CON VIOLENCIA                         1604\n",
       "ROBO A CUENTAHABIENTE SALIENDO DEL CAJERO CON VIOLENCIA      1155\n",
       "ROBO A PASAJERO A BORDO DE TAXI CON VIOLENCIA                 636\n",
       "ROBO A TRANSPORTISTA CON Y SIN VIOLENCIA                      314\n",
       "SECUESTRO                                                     102\n",
       "Name: Categoria, dtype: int64"
      ]
     },
     "execution_count": 56,
     "metadata": {},
     "output_type": "execute_result"
    }
   ],
   "source": [
    "df.Categoria.value_counts()"
   ]
  },
  {
   "cell_type": "code",
   "execution_count": 59,
   "metadata": {},
   "outputs": [],
   "source": [
    "df.fillna(0, inplace = True)\n",
    "df_2019 = df[df.Ano_hecho == 2019]\n",
    "df_2020 = df[df.Ano_hecho == 2020]\n",
    "df_2021 = df[df.Ano_hecho == 2021]"
   ]
  },
  {
   "cell_type": "code",
   "execution_count": 62,
   "metadata": {},
   "outputs": [
    {
     "data": {
      "text/plain": [
       "(27547, 23)"
      ]
     },
     "execution_count": 62,
     "metadata": {},
     "output_type": "execute_result"
    }
   ],
   "source": [
    "df_2021.shape"
   ]
  },
  {
   "cell_type": "markdown",
   "metadata": {},
   "source": [
    "# First Map Using 2021"
   ]
  },
  {
   "cell_type": "code",
   "execution_count": null,
   "metadata": {},
   "outputs": [],
   "source": []
  }
 ],
 "metadata": {
  "kernelspec": {
   "display_name": "Python 3",
   "language": "python",
   "name": "python3"
  },
  "language_info": {
   "codemirror_mode": {
    "name": "ipython",
    "version": 3
   },
   "file_extension": ".py",
   "mimetype": "text/x-python",
   "name": "python",
   "nbconvert_exporter": "python",
   "pygments_lexer": "ipython3",
   "version": "3.8.5"
  }
 },
 "nbformat": 4,
 "nbformat_minor": 4
}
