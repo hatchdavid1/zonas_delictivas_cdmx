{
 "cells": [
  {
   "cell_type": "code",
   "execution_count": 38,
   "metadata": {},
   "outputs": [],
   "source": [
    "import pandas as pd\n",
    "import numpy as np\n",
    "import seaborn as sns\n",
    "import matplotlib.pyplot as plt\n",
    "#!pip install folium\n",
    "import folium\n",
    "import json\n",
    "import warnings\n",
    "warnings.filterwarnings('ignore')\n",
    "pd.set_option('max_colwidth', 1000)\n",
    "pd.set_option('max_rows', 30)\n",
    "pd.set_option('max_columns', 1000)"
   ]
  },
  {
   "cell_type": "code",
   "execution_count": 2,
   "metadata": {},
   "outputs": [
    {
     "name": "stdout",
     "output_type": "stream",
     "text": [
      "<bound method HTTPResponse.read of <http.client.HTTPResponse object at 0x000001DF43FD27F0>>\n"
     ]
    }
   ],
   "source": [
    "#Testing API connection\n",
    "import urllib.request as req\n",
    "url = 'https://datos.cdmx.gob.mx/api/3/action/datastore_search?resource_id=d543a7b1-f8cb-439f-8a5c-e56c5479eeb5&limit=1000000'  \n",
    "fileobj = req.urlopen(url)\n",
    "print (fileobj.read)"
   ]
  },
  {
   "cell_type": "code",
   "execution_count": 3,
   "metadata": {},
   "outputs": [
    {
     "data": {
      "text/plain": [
       "http.client.HTTPResponse"
      ]
     },
     "execution_count": 3,
     "metadata": {},
     "output_type": "execute_result"
    }
   ],
   "source": [
    "type(fileobj)"
   ]
  },
  {
   "cell_type": "code",
   "execution_count": 5,
   "metadata": {},
   "outputs": [],
   "source": [
    "response = json.loads(fileobj.read())"
   ]
  },
  {
   "cell_type": "code",
   "execution_count": 32,
   "metadata": {},
   "outputs": [],
   "source": [
    "result = response.get('result')\n",
    "records = result.get('records')"
   ]
  },
  {
   "cell_type": "code",
   "execution_count": 39,
   "metadata": {},
   "outputs": [
    {
     "data": {
      "text/html": [
       "<div>\n",
       "<style scoped>\n",
       "    .dataframe tbody tr th:only-of-type {\n",
       "        vertical-align: middle;\n",
       "    }\n",
       "\n",
       "    .dataframe tbody tr th {\n",
       "        vertical-align: top;\n",
       "    }\n",
       "\n",
       "    .dataframe thead th {\n",
       "        text-align: right;\n",
       "    }\n",
       "</style>\n",
       "<table border=\"1\" class=\"dataframe\">\n",
       "  <thead>\n",
       "    <tr style=\"text-align: right;\">\n",
       "      <th></th>\n",
       "      <th>_id</th>\n",
       "      <th>idCarpeta</th>\n",
       "      <th>Ano_inicio</th>\n",
       "      <th>Mes_inicio</th>\n",
       "      <th>FechaInicio</th>\n",
       "      <th>Delito</th>\n",
       "      <th>Categoria</th>\n",
       "      <th>Sexo</th>\n",
       "      <th>Edad</th>\n",
       "      <th>TipoPersona</th>\n",
       "      <th>CalidadJuridica</th>\n",
       "      <th>competencia</th>\n",
       "      <th>Ano_hecho</th>\n",
       "      <th>Mes_hecho</th>\n",
       "      <th>FechaHecho</th>\n",
       "      <th>HoraHecho</th>\n",
       "      <th>HoraInicio</th>\n",
       "      <th>AlcaldiaHechos</th>\n",
       "      <th>ColoniaHechos</th>\n",
       "      <th>Calle_hechos</th>\n",
       "      <th>Calle_hechos2</th>\n",
       "      <th>latitud</th>\n",
       "      <th>longitud</th>\n",
       "    </tr>\n",
       "  </thead>\n",
       "  <tbody>\n",
       "    <tr>\n",
       "      <th>0</th>\n",
       "      <td>63881</td>\n",
       "      <td>8348939</td>\n",
       "      <td>2019</td>\n",
       "      <td>Febrero</td>\n",
       "      <td>2019-05-02T00:00:00</td>\n",
       "      <td>FRAUDE</td>\n",
       "      <td>DELITO DE BAJO IMPACTO</td>\n",
       "      <td>Masculino</td>\n",
       "      <td>NA</td>\n",
       "      <td>FISICA</td>\n",
       "      <td>VICTIMA Y DENUNCIANTE</td>\n",
       "      <td>FUERO COMUN</td>\n",
       "      <td>2019</td>\n",
       "      <td>Enero</td>\n",
       "      <td>20/01/2019</td>\n",
       "      <td>09:00:00</td>\n",
       "      <td>12:42:56</td>\n",
       "      <td>GUSTAVO A MADERO</td>\n",
       "      <td>ROSAS DEL TEPEYAC</td>\n",
       "      <td>ALLENDE</td>\n",
       "      <td>NA</td>\n",
       "      <td>19.48936</td>\n",
       "      <td>-99.11665</td>\n",
       "    </tr>\n",
       "    <tr>\n",
       "      <th>1</th>\n",
       "      <td>63882</td>\n",
       "      <td>8348941</td>\n",
       "      <td>2019</td>\n",
       "      <td>Febrero</td>\n",
       "      <td>2019-05-02T00:00:00</td>\n",
       "      <td>ROBO DE OBJETOS A ESCUELA</td>\n",
       "      <td>DELITO DE BAJO IMPACTO</td>\n",
       "      <td>NA</td>\n",
       "      <td>NA</td>\n",
       "      <td>MORAL</td>\n",
       "      <td>OFENDIDO</td>\n",
       "      <td>FUERO COMUN</td>\n",
       "      <td>2019</td>\n",
       "      <td>Febrero</td>\n",
       "      <td>02/02/2019</td>\n",
       "      <td>11:00:00</td>\n",
       "      <td>12:44:34</td>\n",
       "      <td>BENITO JUAREZ</td>\n",
       "      <td>PORTALES SUR</td>\n",
       "      <td>EMPERADORES</td>\n",
       "      <td>AVENIDA TLALPAN</td>\n",
       "      <td>19.36554</td>\n",
       "      <td>-99.14266</td>\n",
       "    </tr>\n",
       "  </tbody>\n",
       "</table>\n",
       "</div>"
      ],
      "text/plain": [
       "     _id  idCarpeta  Ano_inicio Mes_inicio          FechaInicio  \\\n",
       "0  63881    8348939        2019    Febrero  2019-05-02T00:00:00   \n",
       "1  63882    8348941        2019    Febrero  2019-05-02T00:00:00   \n",
       "\n",
       "                      Delito               Categoria       Sexo Edad  \\\n",
       "0                     FRAUDE  DELITO DE BAJO IMPACTO  Masculino   NA   \n",
       "1  ROBO DE OBJETOS A ESCUELA  DELITO DE BAJO IMPACTO         NA   NA   \n",
       "\n",
       "  TipoPersona        CalidadJuridica  competencia Ano_hecho Mes_hecho  \\\n",
       "0      FISICA  VICTIMA Y DENUNCIANTE  FUERO COMUN      2019     Enero   \n",
       "1       MORAL               OFENDIDO  FUERO COMUN      2019   Febrero   \n",
       "\n",
       "   FechaHecho HoraHecho HoraInicio    AlcaldiaHechos      ColoniaHechos  \\\n",
       "0  20/01/2019  09:00:00   12:42:56  GUSTAVO A MADERO  ROSAS DEL TEPEYAC   \n",
       "1  02/02/2019  11:00:00   12:44:34     BENITO JUAREZ       PORTALES SUR   \n",
       "\n",
       "  Calle_hechos    Calle_hechos2   latitud   longitud  \n",
       "0      ALLENDE               NA  19.48936  -99.11665  \n",
       "1  EMPERADORES  AVENIDA TLALPAN  19.36554  -99.14266  "
      ]
     },
     "execution_count": 39,
     "metadata": {},
     "output_type": "execute_result"
    }
   ],
   "source": [
    "df = pd.DataFrame(records)\n",
    "df.head(2)"
   ]
  },
  {
   "cell_type": "code",
   "execution_count": 37,
   "metadata": {},
   "outputs": [
    {
     "name": "stdout",
     "output_type": "stream",
     "text": [
      "Index(['_id', 'idCarpeta', 'Ano_inicio', 'Mes_inicio', 'FechaInicio', 'Delito',\n",
      "       'Categoria', 'Sexo', 'Edad', 'TipoPersona', 'CalidadJuridica',\n",
      "       'competencia', 'Ano_hecho', 'Mes_hecho', 'FechaHecho', 'HoraHecho',\n",
      "       'HoraInicio', 'AlcaldiaHechos', 'ColoniaHechos', 'Calle_hechos',\n",
      "       'Calle_hechos2', 'latitud', 'longitud'],\n",
      "      dtype='object')\n",
      "<class 'pandas.core.frame.DataFrame'>\n",
      "RangeIndex: 32000 entries, 0 to 31999\n",
      "Data columns (total 23 columns):\n",
      " #   Column           Non-Null Count  Dtype \n",
      "---  ------           --------------  ----- \n",
      " 0   _id              32000 non-null  int64 \n",
      " 1   idCarpeta        32000 non-null  int64 \n",
      " 2   Ano_inicio       32000 non-null  int64 \n",
      " 3   Mes_inicio       32000 non-null  object\n",
      " 4   FechaInicio      32000 non-null  object\n",
      " 5   Delito           32000 non-null  object\n",
      " 6   Categoria        32000 non-null  object\n",
      " 7   Sexo             32000 non-null  object\n",
      " 8   Edad             32000 non-null  object\n",
      " 9   TipoPersona      32000 non-null  object\n",
      " 10  CalidadJuridica  32000 non-null  object\n",
      " 11  competencia      32000 non-null  object\n",
      " 12  Ano_hecho        32000 non-null  object\n",
      " 13  Mes_hecho        32000 non-null  object\n",
      " 14  FechaHecho       32000 non-null  object\n",
      " 15  HoraHecho        32000 non-null  object\n",
      " 16  HoraInicio       32000 non-null  object\n",
      " 17  AlcaldiaHechos   32000 non-null  object\n",
      " 18  ColoniaHechos    32000 non-null  object\n",
      " 19  Calle_hechos     32000 non-null  object\n",
      " 20  Calle_hechos2    32000 non-null  object\n",
      " 21  latitud          32000 non-null  object\n",
      " 22  longitud         32000 non-null  object\n",
      "dtypes: int64(3), object(20)\n",
      "memory usage: 5.6+ MB\n",
      "None\n"
     ]
    }
   ],
   "source": [
    "print(df.columns)\n",
    "print(df.info())"
   ]
  },
  {
   "cell_type": "code",
   "execution_count": 41,
   "metadata": {},
   "outputs": [
    {
     "data": {
      "text/plain": [
       "Octubre       5655\n",
       "Julio         4298\n",
       "Abril         4006\n",
       "Enero         3999\n",
       "Diciembre     3774\n",
       "Marzo         3723\n",
       "Febrero       2682\n",
       "Septiembre    2507\n",
       "Junio         1308\n",
       "Mayo            47\n",
       "Noviembre        1\n",
       "Name: Mes_inicio, dtype: int64"
      ]
     },
     "execution_count": 41,
     "metadata": {},
     "output_type": "execute_result"
    }
   ],
   "source": [
    "df.Mes_inicio.value_counts()"
   ]
  },
  {
   "cell_type": "code",
   "execution_count": 42,
   "metadata": {},
   "outputs": [
    {
     "data": {
      "text/plain": [
       "DELITO DE BAJO IMPACTO                                     24181\n",
       "ROBO A TRANSEUNTE EN VÍA PÚBLICA CON Y SIN VIOLENCIA        1992\n",
       "ROBO A NEGOCIO CON VIOLENCIA                                1718\n",
       "ROBO DE VEHÍCULO CON Y SIN VIOLENCIA                        1686\n",
       "ROBO A REPARTIDOR CON Y SIN VIOLENCIA                        499\n",
       "HECHO NO DELICTIVO                                           459\n",
       "ROBO A PASAJERO A BORDO DEL METRO CON Y SIN VIOLENCIA        378\n",
       "HOMICIDIO DOLOSO                                             234\n",
       "LESIONES DOLOSAS POR DISPARO DE ARMA DE FUEGO                233\n",
       "VIOLACIÓN                                                    203\n",
       "ROBO A PASAJERO A BORDO DE MICROBUS CON Y SIN VIOLENCIA      152\n",
       "ROBO A CASA HABITACIÓN CON VIOLENCIA                          91\n",
       "ROBO A CUENTAHABIENTE SALIENDO DEL CAJERO CON VIOLENCIA       79\n",
       "ROBO A PASAJERO A BORDO DE TAXI CON VIOLENCIA                 59\n",
       "ROBO A TRANSPORTISTA CON Y SIN VIOLENCIA                      25\n",
       "SECUESTRO                                                     11\n",
       "Name: Categoria, dtype: int64"
      ]
     },
     "execution_count": 42,
     "metadata": {},
     "output_type": "execute_result"
    }
   ],
   "source": [
    "df.Categoria.value_counts()"
   ]
  },
  {
   "cell_type": "code",
   "execution_count": null,
   "metadata": {},
   "outputs": [],
   "source": []
  }
 ],
 "metadata": {
  "kernelspec": {
   "display_name": "Python 3",
   "language": "python",
   "name": "python3"
  },
  "language_info": {
   "codemirror_mode": {
    "name": "ipython",
    "version": 3
   },
   "file_extension": ".py",
   "mimetype": "text/x-python",
   "name": "python",
   "nbconvert_exporter": "python",
   "pygments_lexer": "ipython3",
   "version": "3.8.5"
  }
 },
 "nbformat": 4,
 "nbformat_minor": 4
}
